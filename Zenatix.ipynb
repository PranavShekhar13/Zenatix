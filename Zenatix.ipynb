{
 "cells": [
  {
   "cell_type": "code",
   "execution_count": 1,
   "id": "6b90f89b",
   "metadata": {},
   "outputs": [
    {
     "name": "stdout",
     "output_type": "stream",
     "text": [
      "196.0\n"
     ]
    }
   ],
   "source": [
    "#CPU AVerage Load\n",
    "\n",
    "import os\n",
    "import subprocess\n",
    "import re\n",
    "\n",
    "statistics = {}\n",
    "\n",
    "\n",
    "physical_and_logical_cpu_count = os.cpu_count()\n",
    "statistics['physical_and_logical_cpu_count'] = physical_and_logical_cpu_count\n",
    "\n",
    "\n",
    "cpu_load = [x / os.cpu_count() * 100 for x in os.getloadavg()][-1]\n",
    "statistics['cpu_load'] = cpu_load\n",
    "print(statistics['cpu_load'])"
   ]
  },
  {
   "cell_type": "code",
   "execution_count": 2,
   "id": "1be178e7",
   "metadata": {},
   "outputs": [
    {
     "name": "stdout",
     "output_type": "stream",
     "text": [
      "70.1\n",
      "29.9508201272313\n"
     ]
    }
   ],
   "source": [
    "#Available Memory Percentage\n",
    "\n",
    "import psutil\n",
    "\n",
    "\n",
    "print(psutil.virtual_memory().percent)\n",
    "print(psutil.virtual_memory().available * 100 / psutil.virtual_memory().total)"
   ]
  },
  {
   "cell_type": "code",
   "execution_count": 3,
   "id": "80982be3",
   "metadata": {},
   "outputs": [
    {
     "data": {
      "text/plain": [
       "61.3"
      ]
     },
     "execution_count": 3,
     "metadata": {},
     "output_type": "execute_result"
    }
   ],
   "source": [
    "#CPU Percentage Utilisation\n",
    "\n",
    "psutil.cpu_percent()"
   ]
  },
  {
   "cell_type": "code",
   "execution_count": 4,
   "id": "b1c5aed5",
   "metadata": {},
   "outputs": [
    {
     "data": {
      "text/plain": [
       "43.2"
      ]
     },
     "execution_count": 4,
     "metadata": {},
     "output_type": "execute_result"
    }
   ],
   "source": [
    "#Disk Usage Percentage\n",
    "\n",
    "import os\n",
    "import psutil\n",
    "\n",
    "psutil.disk_usage(os.sep).percent"
   ]
  },
  {
   "cell_type": "code",
   "execution_count": 5,
   "id": "14cca2f8",
   "metadata": {},
   "outputs": [
    {
     "name": "stdout",
     "output_type": "stream",
     "text": [
      "{'min': '41.515', 'avg': '45.353', 'max': '57.465'}\n"
     ]
    }
   ],
   "source": [
    "# Network latency\n",
    "\n",
    "ping_result = subprocess.run(['ping', '-i 5', '-c 5', 'google.com'], stdout=subprocess.PIPE).stdout.decode('utf-8').split('\\n')\n",
    "\n",
    "min, avg, max = ping_result[-2].split('=')[-1].split('/')[:3]\n",
    "statistics['network_latency'] = dict(\n",
    "    {\n",
    "        'min': min.strip(),\n",
    "        'avg': avg.strip(),\n",
    "        'max': max.strip(),\n",
    "    }\n",
    ")\n",
    "\n",
    "print(statistics['network_latency'])"
   ]
  },
  {
   "cell_type": "code",
   "execution_count": 6,
   "id": "0797ed9b",
   "metadata": {},
   "outputs": [
    {
     "name": "stdout",
     "output_type": "stream",
     "text": [
      "{'took': 222, 'timed_out': False, '_shards': {'total': 5, 'successful': 5, 'skipped': 0, 'failed': 0}, 'hits': {'total': 1, 'max_score': 0.2876821, 'hits': [{'_index': 'metrics', '_type': 'metrics_data', '_id': '7yrfZnoBpmYLlLWSv9NX', '_score': 0.2876821, '_source': {'Name': 'Performance_Metrics', 'CPU-Load': 163.0, 'Virtual-Memory-Percent': 93.7, 'Disk-Usage-Percent': 43.0}}]}}\n",
      "<class 'dict'>\n",
      "{'Name': 'Performance_Metrics', 'CPU-Load': 163.0, 'Virtual-Memory-Percent': 93.7, 'Disk-Usage-Percent': 43.0}\n"
     ]
    }
   ],
   "source": [
    "#Send and Get Data to and from ElasticSearch DataBase\n",
    "\n",
    "import elasticsearch\n",
    "from elasticsearch import Elasticsearch\n",
    "import os\n",
    "import json\n",
    "import psutil\n",
    "\n",
    "def send_data_to_es(data):\n",
    "    es = Elasticsearch(['localhost:9200'])\n",
    "    res = es.index(index='metrics',doc_type='metrics_data',body=data)\n",
    "    print(res)\n",
    "    \n",
    "def get_data_from_es():\n",
    "    es = Elasticsearch(['localhost:9200'])\n",
    "    r = es.search(index=\"metrics\",body={\"query\": {\"match\":{'Name':'Performance_Metrics'}}})\n",
    "    print(r)\n",
    "    print(type(r))\n",
    "    print(r[\"hits\"][\"hits\"][0][\"_source\"])\n",
    "    \n",
    "data = {\"Name\":\"Performance_Metrics\",\"CPU-Load\":cpu_load,\"Virtual-Memory-Percent\":psutil.virtual_memory().percent,\"Disk-Usage-Percent\":psutil.disk_usage(os.sep).percent}\n",
    "\n",
    "#send_data_to_es(data)\n",
    "get_data_from_es()"
   ]
  },
  {
   "cell_type": "code",
   "execution_count": null,
   "id": "39063f06",
   "metadata": {},
   "outputs": [],
   "source": []
  }
 ],
 "metadata": {
  "kernelspec": {
   "display_name": "Python 3",
   "language": "python",
   "name": "python3"
  },
  "language_info": {
   "codemirror_mode": {
    "name": "ipython",
    "version": 3
   },
   "file_extension": ".py",
   "mimetype": "text/x-python",
   "name": "python",
   "nbconvert_exporter": "python",
   "pygments_lexer": "ipython3",
   "version": "3.8.8"
  }
 },
 "nbformat": 4,
 "nbformat_minor": 5
}
